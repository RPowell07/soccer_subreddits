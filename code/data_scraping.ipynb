{
 "cells": [
  {
   "cell_type": "code",
   "execution_count": 45,
   "id": "07616e7e-55e3-4f3b-b521-86da92f9adc3",
   "metadata": {},
   "outputs": [],
   "source": [
    "import requests\n",
    "import pandas as pd"
   ]
  },
  {
   "cell_type": "code",
   "execution_count": 63,
   "id": "c6dd47f8-ea3a-4b3a-90c9-359c46a63900",
   "metadata": {},
   "outputs": [],
   "source": [
    "def reddit_scraper(subreddit):\n",
    "    output = []\n",
    "    for i in range(1, 41):\n",
    "        url = 'https://api.pushshift.io/reddit/search/submission'\n",
    "        if i == 1:\n",
    "            params = {'subreddit': subreddit,\n",
    "                      'size' : 100\n",
    "                      }\n",
    "            res = requests.get(url, params)\n",
    "            data = res.json()\n",
    "            posts = data['data']\n",
    "            for post in posts:\n",
    "                output.append(post)\n",
    "        else:\n",
    "            params = {'subreddit': subreddit,\n",
    "                      'size' : 100,\n",
    "                      'before': posts[(len(posts) - 1)]['created_utc']\n",
    "             }\n",
    "            res = requests.get(url, params)\n",
    "            data = res.json()\n",
    "            posts = data['data']\n",
    "            for post in posts:\n",
    "                output.append(post)\n",
    "    df = pd.DataFrame(output)\n",
    "    df.to_csv('../data/' + subreddit + '_reddit_unclean.csv', index = False)"
   ]
  },
  {
   "cell_type": "code",
   "execution_count": 64,
   "id": "883e5130-2f83-4119-9ba3-b98524af1e20",
   "metadata": {},
   "outputs": [],
   "source": [
    "reddit_scraper('soccer')"
   ]
  },
  {
   "cell_type": "code",
   "execution_count": 65,
   "id": "ddb7f743-e8cb-4b3e-b28a-95394630da17",
   "metadata": {},
   "outputs": [],
   "source": [
    "reddit_scraper('FIFA')"
   ]
  },
  {
   "cell_type": "code",
   "execution_count": null,
   "id": "387e9309-1649-4058-b46a-a6a15034cef6",
   "metadata": {},
   "outputs": [],
   "source": []
  }
 ],
 "metadata": {
  "kernelspec": {
   "display_name": "Python 3 (ipykernel)",
   "language": "python",
   "name": "python3"
  },
  "language_info": {
   "codemirror_mode": {
    "name": "ipython",
    "version": 3
   },
   "file_extension": ".py",
   "mimetype": "text/x-python",
   "name": "python",
   "nbconvert_exporter": "python",
   "pygments_lexer": "ipython3",
   "version": "3.9.12"
  }
 },
 "nbformat": 4,
 "nbformat_minor": 5
}
