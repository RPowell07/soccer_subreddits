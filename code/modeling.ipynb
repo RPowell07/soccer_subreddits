{
 "cells": [
  {
   "cell_type": "code",
   "execution_count": 171,
   "id": "87d76033-6319-46c2-9c9f-c67a97f339dc",
   "metadata": {},
   "outputs": [],
   "source": [
    "import pandas as pd\n",
    "import numpy as np\n",
    "import matplotlib.pyplot as plt\n",
    "import seaborn as sns\n",
    "from nltk.tokenize import sent_tokenize, word_tokenize, RegexpTokenizer\n",
    "from nltk.stem import WordNetLemmatizer\n",
    "from nltk.stem.porter import PorterStemmer\n",
    "from nltk.corpus import stopwords\n",
    "import re\n",
    "from sklearn.model_selection import train_test_split, cross_val_score, GridSearchCV\n",
    "from sklearn.pipeline import Pipeline\n",
    "from sklearn.naive_bayes import MultinomialNB\n",
    "from sklearn.linear_model import LogisticRegression\n",
    "from sklearn.metrics import confusion_matrix, plot_confusion_matrix, ConfusionMatrixDisplay\n",
    "from sklearn.feature_extraction.text import CountVectorizer, TfidfVectorizer\n",
    "from sklearn.ensemble import RandomForestClassifier, ExtraTreesClassifier\n",
    "\n",
    "np.random.seed(7)"
   ]
  },
  {
   "cell_type": "code",
   "execution_count": 172,
   "id": "7987fd92-e5a3-48d3-b62f-cd25f7621bf5",
   "metadata": {},
   "outputs": [
    {
     "name": "stdout",
     "output_type": "stream",
     "text": [
      "(7978, 4)\n"
     ]
    },
    {
     "data": {
      "text/html": [
       "<div>\n",
       "<style scoped>\n",
       "    .dataframe tbody tr th:only-of-type {\n",
       "        vertical-align: middle;\n",
       "    }\n",
       "\n",
       "    .dataframe tbody tr th {\n",
       "        vertical-align: top;\n",
       "    }\n",
       "\n",
       "    .dataframe thead th {\n",
       "        text-align: right;\n",
       "    }\n",
       "</style>\n",
       "<table border=\"1\" class=\"dataframe\">\n",
       "  <thead>\n",
       "    <tr style=\"text-align: right;\">\n",
       "      <th></th>\n",
       "      <th>author</th>\n",
       "      <th>subreddit</th>\n",
       "      <th>cleantext</th>\n",
       "      <th>cleantitle</th>\n",
       "    </tr>\n",
       "  </thead>\n",
       "  <tbody>\n",
       "    <tr>\n",
       "      <th>0</th>\n",
       "      <td>AutoModerator</td>\n",
       "      <td>soccer</td>\n",
       "      <td>a place to discuss everything except the engli...</td>\n",
       "      <td>non-pl daily discussion</td>\n",
       "    </tr>\n",
       "    <tr>\n",
       "      <th>1</th>\n",
       "      <td>Chapulana</td>\n",
       "      <td>soccer</td>\n",
       "      <td></td>\n",
       "      <td>[about the latest eca/uefa idea] psg want cham...</td>\n",
       "    </tr>\n",
       "    <tr>\n",
       "      <th>2</th>\n",
       "      <td>joaorsilva</td>\n",
       "      <td>soccer</td>\n",
       "      <td></td>\n",
       "      <td>[record] cristiano ronaldo says he will be at ...</td>\n",
       "    </tr>\n",
       "    <tr>\n",
       "      <th>3</th>\n",
       "      <td>klarstartpirat</td>\n",
       "      <td>soccer</td>\n",
       "      <td></td>\n",
       "      <td>jack grealish says english players get unfair ...</td>\n",
       "    </tr>\n",
       "    <tr>\n",
       "      <th>4</th>\n",
       "      <td>ImamZain</td>\n",
       "      <td>soccer</td>\n",
       "      <td></td>\n",
       "      <td>[pearce] the battle for jude bellingham… dortm...</td>\n",
       "    </tr>\n",
       "  </tbody>\n",
       "</table>\n",
       "</div>"
      ],
      "text/plain": [
       "           author subreddit  \\\n",
       "0   AutoModerator    soccer   \n",
       "1       Chapulana    soccer   \n",
       "2      joaorsilva    soccer   \n",
       "3  klarstartpirat    soccer   \n",
       "4        ImamZain    soccer   \n",
       "\n",
       "                                           cleantext  \\\n",
       "0  a place to discuss everything except the engli...   \n",
       "1                                                      \n",
       "2                                                      \n",
       "3                                                      \n",
       "4                                                      \n",
       "\n",
       "                                          cleantitle  \n",
       "0                            non-pl daily discussion  \n",
       "1  [about the latest eca/uefa idea] psg want cham...  \n",
       "2  [record] cristiano ronaldo says he will be at ...  \n",
       "3  jack grealish says english players get unfair ...  \n",
       "4  [pearce] the battle for jude bellingham… dortm...  "
      ]
     },
     "execution_count": 172,
     "metadata": {},
     "output_type": "execute_result"
    }
   ],
   "source": [
    "df = pd.read_csv('../data/combined_reddit.csv')\n",
    "df.fillna('', inplace = True)\n",
    "print(df.shape)\n",
    "df.head()"
   ]
  },
  {
   "cell_type": "code",
   "execution_count": 173,
   "id": "e5346725-ae42-4f52-a7c7-fdbba5cbe0fe",
   "metadata": {},
   "outputs": [
    {
     "name": "stdout",
     "output_type": "stream",
     "text": [
      "           author  subreddit  \\\n",
      "0   AutoModerator          1   \n",
      "1       Chapulana          1   \n",
      "2      joaorsilva          1   \n",
      "3  klarstartpirat          1   \n",
      "4        ImamZain          1   \n",
      "\n",
      "                                           cleantext  \\\n",
      "0  a place to discuss everything except the engli...   \n",
      "1                                                      \n",
      "2                                                      \n",
      "3                                                      \n",
      "4                                                      \n",
      "\n",
      "                                          cleantitle  \n",
      "0                            non-pl daily discussion  \n",
      "1  [about the latest eca/uefa idea] psg want cham...  \n",
      "2  [record] cristiano ronaldo says he will be at ...  \n",
      "3  jack grealish says english players get unfair ...  \n",
      "4  [pearce] the battle for jude bellingham… dortm...  \n",
      "                   author  subreddit  \\\n",
      "7973  AdamMitchellWheyyyy          0   \n",
      "7974          Access_Kind          0   \n",
      "7975             YakCarlo          0   \n",
      "7976          Access_Kind          0   \n",
      "7977          Access_Kind          0   \n",
      "\n",
      "                                              cleantext  \\\n",
      "7973  hey all\\n\\nas per the title, my connection is ...   \n",
      "7974  i am seeking advice on possible players to get...   \n",
      "7975                                                      \n",
      "7976                                                      \n",
      "7977                                                      \n",
      "\n",
      "                                             cleantitle  \n",
      "7973                           severe connection issues  \n",
      "7974  why are we not allowed to post out fut screens...  \n",
      "7975  fut 19 toty kit for anyone who wants a classy ...  \n",
      "7976                      need advice on my ligue 1 fut  \n",
      "7977  need advice on my ligue 1 team fifa 22 fut, wh...  \n"
     ]
    }
   ],
   "source": [
    "df['subreddit'] = df['subreddit'].map({'soccer':1, 'FIFA':0})\n",
    "print(df.head())\n",
    "print(df.tail())"
   ]
  },
  {
   "cell_type": "markdown",
   "id": "633de532-ccb1-48ea-953b-7a477181afb2",
   "metadata": {},
   "source": [
    "### Baseline Model"
   ]
  },
  {
   "cell_type": "code",
   "execution_count": 256,
   "id": "746be121-6015-4ee3-956f-a6261f9aeb33",
   "metadata": {},
   "outputs": [
    {
     "data": {
      "text/plain": [
       "0    4000\n",
       "1    3978\n",
       "Name: subreddit, dtype: int64"
      ]
     },
     "execution_count": 256,
     "metadata": {},
     "output_type": "execute_result"
    }
   ],
   "source": [
    "df['subreddit'].value_counts()"
   ]
  },
  {
   "cell_type": "code",
   "execution_count": 174,
   "id": "1bd67d6d-0616-4978-813d-089667118934",
   "metadata": {},
   "outputs": [
    {
     "data": {
      "text/plain": [
       "0    0.501379\n",
       "1    0.498621\n",
       "Name: subreddit, dtype: float64"
      ]
     },
     "execution_count": 174,
     "metadata": {},
     "output_type": "execute_result"
    }
   ],
   "source": [
    "df['subreddit'].value_counts(normalize=True)"
   ]
  },
  {
   "cell_type": "markdown",
   "id": "a9a3bc49-4c3d-489e-bcbf-5613d6e1cc19",
   "metadata": {},
   "source": [
    "Because we have roughly 4000s post from each subreddit, our baseline model will be 50.14%, the higher of the percentages of r/soccer, and r/FIFA. So if we guess either all 'r/FIFA' we will be correct 50.14% of the time."
   ]
  },
  {
   "cell_type": "markdown",
   "id": "e0a2af6b-e986-4d98-8248-69cc51b827b9",
   "metadata": {
    "tags": []
   },
   "source": [
    "## Multinomial Naive Bayes"
   ]
  },
  {
   "cell_type": "code",
   "execution_count": 175,
   "id": "1922a4e7-56d1-4e37-94fe-54623a141218",
   "metadata": {},
   "outputs": [
    {
     "data": {
      "text/html": [
       "<div>\n",
       "<style scoped>\n",
       "    .dataframe tbody tr th:only-of-type {\n",
       "        vertical-align: middle;\n",
       "    }\n",
       "\n",
       "    .dataframe tbody tr th {\n",
       "        vertical-align: top;\n",
       "    }\n",
       "\n",
       "    .dataframe thead th {\n",
       "        text-align: right;\n",
       "    }\n",
       "</style>\n",
       "<table border=\"1\" class=\"dataframe\">\n",
       "  <thead>\n",
       "    <tr style=\"text-align: right;\">\n",
       "      <th></th>\n",
       "      <th>author</th>\n",
       "      <th>subreddit</th>\n",
       "      <th>cleantext</th>\n",
       "      <th>cleantitle</th>\n",
       "    </tr>\n",
       "  </thead>\n",
       "  <tbody>\n",
       "    <tr>\n",
       "      <th>0</th>\n",
       "      <td>AutoModerator</td>\n",
       "      <td>1</td>\n",
       "      <td>a place to discuss everything except the engli...</td>\n",
       "      <td>non-pl daily discussion</td>\n",
       "    </tr>\n",
       "    <tr>\n",
       "      <th>1</th>\n",
       "      <td>Chapulana</td>\n",
       "      <td>1</td>\n",
       "      <td></td>\n",
       "      <td>[about the latest eca/uefa idea] psg want cham...</td>\n",
       "    </tr>\n",
       "    <tr>\n",
       "      <th>2</th>\n",
       "      <td>joaorsilva</td>\n",
       "      <td>1</td>\n",
       "      <td></td>\n",
       "      <td>[record] cristiano ronaldo says he will be at ...</td>\n",
       "    </tr>\n",
       "    <tr>\n",
       "      <th>3</th>\n",
       "      <td>klarstartpirat</td>\n",
       "      <td>1</td>\n",
       "      <td></td>\n",
       "      <td>jack grealish says english players get unfair ...</td>\n",
       "    </tr>\n",
       "    <tr>\n",
       "      <th>4</th>\n",
       "      <td>ImamZain</td>\n",
       "      <td>1</td>\n",
       "      <td></td>\n",
       "      <td>[pearce] the battle for jude bellingham… dortm...</td>\n",
       "    </tr>\n",
       "  </tbody>\n",
       "</table>\n",
       "</div>"
      ],
      "text/plain": [
       "           author  subreddit  \\\n",
       "0   AutoModerator          1   \n",
       "1       Chapulana          1   \n",
       "2      joaorsilva          1   \n",
       "3  klarstartpirat          1   \n",
       "4        ImamZain          1   \n",
       "\n",
       "                                           cleantext  \\\n",
       "0  a place to discuss everything except the engli...   \n",
       "1                                                      \n",
       "2                                                      \n",
       "3                                                      \n",
       "4                                                      \n",
       "\n",
       "                                          cleantitle  \n",
       "0                            non-pl daily discussion  \n",
       "1  [about the latest eca/uefa idea] psg want cham...  \n",
       "2  [record] cristiano ronaldo says he will be at ...  \n",
       "3  jack grealish says english players get unfair ...  \n",
       "4  [pearce] the battle for jude bellingham… dortm...  "
      ]
     },
     "execution_count": 175,
     "metadata": {},
     "output_type": "execute_result"
    }
   ],
   "source": [
    "df.head()"
   ]
  },
  {
   "cell_type": "code",
   "execution_count": 176,
   "id": "37337c21-5df6-45dd-8638-4203db97e407",
   "metadata": {},
   "outputs": [],
   "source": [
    "#Set X and y\n",
    "X = df['cleantitle'] \n",
    "y = df['subreddit']"
   ]
  },
  {
   "cell_type": "code",
   "execution_count": 177,
   "id": "61070cac-f39f-41f7-ac96-1818b2fe10b4",
   "metadata": {},
   "outputs": [],
   "source": [
    "X_train, X_test, y_train, y_test = train_test_split(X, y, random_state=42, stratify = y)"
   ]
  },
  {
   "cell_type": "code",
   "execution_count": 178,
   "id": "45e14521-8cac-4dd7-a37d-b0d87a18323a",
   "metadata": {},
   "outputs": [
    {
     "name": "stdout",
     "output_type": "stream",
     "text": [
      "(7978,)\n",
      "(7978,)\n"
     ]
    }
   ],
   "source": [
    "print(X.shape)\n",
    "print(y.shape)"
   ]
  },
  {
   "cell_type": "code",
   "execution_count": 179,
   "id": "37d08fda-164a-4094-9e3a-a6cd8ccefce0",
   "metadata": {},
   "outputs": [
    {
     "data": {
      "text/plain": [
       "4897    this is the end. i don’t think i’ll ever be ab...\n",
       "1871                             nike 2022 world cup kits\n",
       "6324                      the more i play the worse i get\n",
       "4503    only thing i’ve enjoyed doing on fifa since fu...\n",
       "4456    now that fifa 22 is over, how would you review...\n",
       "                              ...                        \n",
       "7325                             arsenal past and present\n",
       "1290    cherry's fixture guide &amp; cheat sheet for s...\n",
       "102     messi, neymar and mbappé assists to each other...\n",
       "3113    [optajose] rodrygo goes has been involved in 1...\n",
       "6949       can my pc run fifa 23 on the highest settings?\n",
       "Name: cleantitle, Length: 5983, dtype: object"
      ]
     },
     "execution_count": 179,
     "metadata": {},
     "output_type": "execute_result"
    }
   ],
   "source": [
    "X_train"
   ]
  },
  {
   "cell_type": "code",
   "execution_count": 180,
   "id": "2c930b65-5abe-4ddb-af64-024ab8365b3a",
   "metadata": {},
   "outputs": [
    {
     "data": {
      "text/plain": [
       "4897    0\n",
       "1871    1\n",
       "6324    0\n",
       "4503    0\n",
       "4456    0\n",
       "       ..\n",
       "7325    0\n",
       "1290    1\n",
       "102     1\n",
       "3113    1\n",
       "6949    0\n",
       "Name: subreddit, Length: 5983, dtype: int64"
      ]
     },
     "execution_count": 180,
     "metadata": {},
     "output_type": "execute_result"
    }
   ],
   "source": [
    "y_train"
   ]
  },
  {
   "cell_type": "code",
   "execution_count": 181,
   "id": "9c1b50f7-1f8d-4e59-8f8a-67baafc60ffc",
   "metadata": {},
   "outputs": [],
   "source": [
    "#Multinomial Naive Bayes (variables are positive integers) and Count Vectorizer Pipeline\n",
    "pipe = Pipeline([\n",
    "    ('cvec', CountVectorizer()),\n",
    "    ('nb', MultinomialNB())\n",
    "])"
   ]
  },
  {
   "cell_type": "code",
   "execution_count": 182,
   "id": "48ee67ae-d501-47cc-be16-dab75fbf36cf",
   "metadata": {},
   "outputs": [],
   "source": [
    "pipe_params = {\n",
    "    'cvec__stop_words':[None, 'english']\n",
    "}"
   ]
  },
  {
   "cell_type": "code",
   "execution_count": 183,
   "id": "30b4ecf0-48ee-4a26-b1a2-3829ea08510e",
   "metadata": {},
   "outputs": [],
   "source": [
    "gs = GridSearchCV(pipe,\n",
    "                  param_grid = pipe_params,\n",
    "                  cv = 5)"
   ]
  },
  {
   "cell_type": "code",
   "execution_count": 184,
   "id": "07ef7ca0-48c0-49cf-b129-1d18a41faf51",
   "metadata": {},
   "outputs": [
    {
     "data": {
      "text/plain": [
       "GridSearchCV(cv=5,\n",
       "             estimator=Pipeline(steps=[('cvec', CountVectorizer()),\n",
       "                                       ('nb', MultinomialNB())]),\n",
       "             param_grid={'cvec__stop_words': [None, 'english']})"
      ]
     },
     "execution_count": 184,
     "metadata": {},
     "output_type": "execute_result"
    }
   ],
   "source": [
    "gs.fit(X_train, y_train)"
   ]
  },
  {
   "cell_type": "code",
   "execution_count": 185,
   "id": "14d4c024-d3d0-4e69-9c02-8812287fbc9b",
   "metadata": {},
   "outputs": [
    {
     "name": "stdout",
     "output_type": "stream",
     "text": [
      "0.9346496117663167\n",
      "{'cvec__stop_words': None}\n"
     ]
    }
   ],
   "source": [
    "print(gs.best_score_)\n",
    "print(gs.best_params_)"
   ]
  },
  {
   "cell_type": "code",
   "execution_count": 186,
   "id": "2ae9c4ce-0c11-44e3-9cf6-5e5ca2244043",
   "metadata": {},
   "outputs": [
    {
     "name": "stdout",
     "output_type": "stream",
     "text": [
      "Training Score: 0.9608891860270767\n",
      "Testing Score: 0.931328320802005\n"
     ]
    }
   ],
   "source": [
    "print(f'Training Score: {gs.score(X_train, y_train)}')\n",
    "print(f'Testing Score: {gs.score(X_test, y_test)}')"
   ]
  },
  {
   "cell_type": "markdown",
   "id": "90d4a378-d7f7-4b24-9cb6-3252a53ab9ae",
   "metadata": {},
   "source": [
    "This model appears to be slightly overfit, but it seems to be a good model. Our traning score is .956, and our testing score is .898. "
   ]
  },
  {
   "cell_type": "code",
   "execution_count": 187,
   "id": "ec7955f3-0c9f-45ad-a3ad-a3948c138068",
   "metadata": {},
   "outputs": [],
   "source": [
    "preds = gs.predict(X_test)\n",
    "# Save confusion matrix values\n",
    "tn, fp, fn, tp = confusion_matrix(y_test, preds).ravel()"
   ]
  },
  {
   "cell_type": "code",
   "execution_count": 188,
   "id": "fb66eea9-426d-45c7-9b89-a088b2fdfe92",
   "metadata": {},
   "outputs": [
    {
     "data": {
      "image/png": "[encoded data removed]",
      "text/plain": [
       "<Figure size 432x288 with 2 Axes>"
      ]
     },
     "metadata": {
      "needs_background": "light"
     },
     "output_type": "display_data"
    }
   ],
   "source": [
    "ConfusionMatrixDisplay.from_predictions(y_test, preds, \n",
    "                                        cmap = 'magma',\n",
    "                                       display_labels = ['r/soccer', 'r/FIFA'])\n",
    "plt.title('Multinomial Naive Bayes of subreddit Title')\n",
    "\n",
    "plt.tight_layout()\n",
    "plt.savefig('../images/mnb_title_cmatrix');"
   ]
  },
  {
   "cell_type": "code",
   "execution_count": 189,
   "id": "970c1c98-6105-4eaa-9b3d-5a6f1dc3d1bb",
   "metadata": {},
   "outputs": [
    {
     "data": {
      "text/plain": [
       "0.931328320802005"
      ]
     },
     "execution_count": 189,
     "metadata": {},
     "output_type": "execute_result"
    }
   ],
   "source": [
    "#Accuracy\n",
    "(tp + tn) / (tp + fn + fp + tn)"
   ]
  },
  {
   "cell_type": "code",
   "execution_count": 190,
   "id": "762eb693-864e-4400-ab20-686b5fda3647",
   "metadata": {},
   "outputs": [
    {
     "data": {
      "text/plain": [
       "0.9055276381909547"
      ]
     },
     "execution_count": 190,
     "metadata": {},
     "output_type": "execute_result"
    }
   ],
   "source": [
    "#Sensitivity (Recall)\n",
    "tp / (tp + fn)"
   ]
  },
  {
   "cell_type": "code",
   "execution_count": 191,
   "id": "22981d56-9dce-4143-9ccf-42f9edc792ec",
   "metadata": {},
   "outputs": [
    {
     "data": {
      "text/plain": [
       "0.957"
      ]
     },
     "execution_count": 191,
     "metadata": {},
     "output_type": "execute_result"
    }
   ],
   "source": [
    "#Specificity\n",
    "tn / (tn + fp)"
   ]
  },
  {
   "cell_type": "markdown",
   "id": "977b378b-8e63-45ae-95f2-5f0af0909003",
   "metadata": {},
   "source": [
    "Accuracy score of 93.1% is much greater than our baseline of 50.1%. We have 94 false positives, where we predicted the post was from the r/soccer, but it was actually from r/FIFA, and 43 false negatives, where we predicted the post was from r/FIFA, but it was from r/soccer. "
   ]
  },
  {
   "cell_type": "markdown",
   "id": "ebc30261-0e7d-473b-9ad1-46cf4c6ea8da",
   "metadata": {},
   "source": [
    "What did we mispredict?"
   ]
  },
  {
   "cell_type": "code",
   "execution_count": 192,
   "id": "dcb2e5b0-d2bb-4ba6-a579-2f10714dd9fe",
   "metadata": {},
   "outputs": [],
   "source": [
    "misplaced_preds = pd.DataFrame([(y_test.values[i], preds[i]) for i in range(len(y_test)) if y_test.values[i] != preds[i]],\n",
    "             index = [y_test.index[i] for i in range(len(y_test)) if y_test.values[i] != preds[i]])\n",
    "misplaced_preds.rename(columns = {0:'misplaced_in_FIFA', 1:'misplaced_in_soccer'}, inplace = True)"
   ]
  },
  {
   "cell_type": "code",
   "execution_count": 193,
   "id": "80cd5cb4-7c55-4825-a0cc-f7f390122f9e",
   "metadata": {},
   "outputs": [],
   "source": [
    "misplaced_titles = pd.DataFrame(X_test.loc[[y_test.index[i] for i in range(len(y_test)) if y_test.values[i] != preds[i]]])"
   ]
  },
  {
   "cell_type": "code",
   "execution_count": 194,
   "id": "64fa39b2-3e67-4b67-b0f2-5ca6ce1a16a9",
   "metadata": {},
   "outputs": [
    {
     "data": {
      "text/html": [
       "<div>\n",
       "<style scoped>\n",
       "    .dataframe tbody tr th:only-of-type {\n",
       "        vertical-align: middle;\n",
       "    }\n",
       "\n",
       "    .dataframe tbody tr th {\n",
       "        vertical-align: top;\n",
       "    }\n",
       "\n",
       "    .dataframe thead th {\n",
       "        text-align: right;\n",
       "    }\n",
       "</style>\n",
       "<table border=\"1\" class=\"dataframe\">\n",
       "  <thead>\n",
       "    <tr style=\"text-align: right;\">\n",
       "      <th></th>\n",
       "      <th>misplaced_in_FIFA</th>\n",
       "      <th>misplaced_in_soccer</th>\n",
       "      <th>cleantitle</th>\n",
       "    </tr>\n",
       "  </thead>\n",
       "  <tbody>\n",
       "    <tr>\n",
       "      <th>9</th>\n",
       "      <td>1</td>\n",
       "      <td>0</td>\n",
       "      <td>[statsbomb] ellyes skhiri percentile rank vs. ...</td>\n",
       "    </tr>\n",
       "    <tr>\n",
       "      <th>49</th>\n",
       "      <td>1</td>\n",
       "      <td>0</td>\n",
       "      <td>i’ve never played soccer, but the ball has suc...</td>\n",
       "    </tr>\n",
       "    <tr>\n",
       "      <th>99</th>\n",
       "      <td>1</td>\n",
       "      <td>0</td>\n",
       "      <td>does someone need an perfect football/soccer e...</td>\n",
       "    </tr>\n",
       "    <tr>\n",
       "      <th>112</th>\n",
       "      <td>1</td>\n",
       "      <td>0</td>\n",
       "      <td>what cleats are these?</td>\n",
       "    </tr>\n",
       "    <tr>\n",
       "      <th>120</th>\n",
       "      <td>1</td>\n",
       "      <td>0</td>\n",
       "      <td>the most decisive players in a season in the 2...</td>\n",
       "    </tr>\n",
       "    <tr>\n",
       "      <th>...</th>\n",
       "      <td>...</td>\n",
       "      <td>...</td>\n",
       "      <td>...</td>\n",
       "    </tr>\n",
       "    <tr>\n",
       "      <th>7436</th>\n",
       "      <td>0</td>\n",
       "      <td>1</td>\n",
       "      <td>i miss the old practice arena</td>\n",
       "    </tr>\n",
       "    <tr>\n",
       "      <th>7525</th>\n",
       "      <td>0</td>\n",
       "      <td>1</td>\n",
       "      <td>dda at its worst. 120' minute equalizer, conte...</td>\n",
       "    </tr>\n",
       "    <tr>\n",
       "      <th>7669</th>\n",
       "      <td>0</td>\n",
       "      <td>1</td>\n",
       "      <td>i would pay for classic teams or even better c...</td>\n",
       "    </tr>\n",
       "    <tr>\n",
       "      <th>7670</th>\n",
       "      <td>0</td>\n",
       "      <td>1</td>\n",
       "      <td>3 bars of power on a chip and he launches the ...</td>\n",
       "    </tr>\n",
       "    <tr>\n",
       "      <th>7682</th>\n",
       "      <td>0</td>\n",
       "      <td>1</td>\n",
       "      <td>wonder - volley</td>\n",
       "    </tr>\n",
       "  </tbody>\n",
       "</table>\n",
       "<p>137 rows × 3 columns</p>\n",
       "</div>"
      ],
      "text/plain": [
       "      misplaced_in_FIFA  misplaced_in_soccer  \\\n",
       "9                     1                    0   \n",
       "49                    1                    0   \n",
       "99                    1                    0   \n",
       "112                   1                    0   \n",
       "120                   1                    0   \n",
       "...                 ...                  ...   \n",
       "7436                  0                    1   \n",
       "7525                  0                    1   \n",
       "7669                  0                    1   \n",
       "7670                  0                    1   \n",
       "7682                  0                    1   \n",
       "\n",
       "                                             cleantitle  \n",
       "9     [statsbomb] ellyes skhiri percentile rank vs. ...  \n",
       "49    i’ve never played soccer, but the ball has suc...  \n",
       "99    does someone need an perfect football/soccer e...  \n",
       "112                              what cleats are these?  \n",
       "120   the most decisive players in a season in the 2...  \n",
       "...                                                 ...  \n",
       "7436                      i miss the old practice arena  \n",
       "7525  dda at its worst. 120' minute equalizer, conte...  \n",
       "7669  i would pay for classic teams or even better c...  \n",
       "7670  3 bars of power on a chip and he launches the ...  \n",
       "7682                                    wonder - volley  \n",
       "\n",
       "[137 rows x 3 columns]"
      ]
     },
     "execution_count": 194,
     "metadata": {},
     "output_type": "execute_result"
    }
   ],
   "source": [
    "misplaced_combined_titles = pd.concat([misplaced_preds, misplaced_titles], axis = 1)\n",
    "misplaced_combined_titles.sort_index()"
   ]
  },
  {
   "cell_type": "markdown",
   "id": "5e2703e6-b665-49da-b231-68bde7fd1dce",
   "metadata": {},
   "source": [
    "### Combination of text and title"
   ]
  },
  {
   "cell_type": "code",
   "execution_count": 195,
   "id": "9d2746b1-e605-46ce-a61f-14cc857bb5e9",
   "metadata": {},
   "outputs": [
    {
     "data": {
      "text/html": [
       "<div>\n",
       "<style scoped>\n",
       "    .dataframe tbody tr th:only-of-type {\n",
       "        vertical-align: middle;\n",
       "    }\n",
       "\n",
       "    .dataframe tbody tr th {\n",
       "        vertical-align: top;\n",
       "    }\n",
       "\n",
       "    .dataframe thead th {\n",
       "        text-align: right;\n",
       "    }\n",
       "</style>\n",
       "<table border=\"1\" class=\"dataframe\">\n",
       "  <thead>\n",
       "    <tr style=\"text-align: right;\">\n",
       "      <th></th>\n",
       "      <th>author</th>\n",
       "      <th>subreddit</th>\n",
       "      <th>text_and_title</th>\n",
       "    </tr>\n",
       "  </thead>\n",
       "  <tbody>\n",
       "    <tr>\n",
       "      <th>0</th>\n",
       "      <td>AutoModerator</td>\n",
       "      <td>1</td>\n",
       "      <td>a place to discuss everything except the engli...</td>\n",
       "    </tr>\n",
       "    <tr>\n",
       "      <th>1</th>\n",
       "      <td>Chapulana</td>\n",
       "      <td>1</td>\n",
       "      <td>[about the latest eca/uefa idea] psg want cham...</td>\n",
       "    </tr>\n",
       "    <tr>\n",
       "      <th>2</th>\n",
       "      <td>joaorsilva</td>\n",
       "      <td>1</td>\n",
       "      <td>[record] cristiano ronaldo says he will be at ...</td>\n",
       "    </tr>\n",
       "    <tr>\n",
       "      <th>3</th>\n",
       "      <td>klarstartpirat</td>\n",
       "      <td>1</td>\n",
       "      <td>jack grealish says english players get unfair ...</td>\n",
       "    </tr>\n",
       "    <tr>\n",
       "      <th>4</th>\n",
       "      <td>ImamZain</td>\n",
       "      <td>1</td>\n",
       "      <td>[pearce] the battle for jude bellingham… dortm...</td>\n",
       "    </tr>\n",
       "    <tr>\n",
       "      <th>...</th>\n",
       "      <td>...</td>\n",
       "      <td>...</td>\n",
       "      <td>...</td>\n",
       "    </tr>\n",
       "    <tr>\n",
       "      <th>7973</th>\n",
       "      <td>AdamMitchellWheyyyy</td>\n",
       "      <td>0</td>\n",
       "      <td>hey all\\n\\nas per the title, my connection is ...</td>\n",
       "    </tr>\n",
       "    <tr>\n",
       "      <th>7974</th>\n",
       "      <td>Access_Kind</td>\n",
       "      <td>0</td>\n",
       "      <td>i am seeking advice on possible players to get...</td>\n",
       "    </tr>\n",
       "    <tr>\n",
       "      <th>7975</th>\n",
       "      <td>YakCarlo</td>\n",
       "      <td>0</td>\n",
       "      <td>fut 19 toty kit for anyone who wants a classy ...</td>\n",
       "    </tr>\n",
       "    <tr>\n",
       "      <th>7976</th>\n",
       "      <td>Access_Kind</td>\n",
       "      <td>0</td>\n",
       "      <td>need advice on my ligue 1 fut</td>\n",
       "    </tr>\n",
       "    <tr>\n",
       "      <th>7977</th>\n",
       "      <td>Access_Kind</td>\n",
       "      <td>0</td>\n",
       "      <td>need advice on my ligue 1 team fifa 22 fut, wh...</td>\n",
       "    </tr>\n",
       "  </tbody>\n",
       "</table>\n",
       "<p>7978 rows × 3 columns</p>\n",
       "</div>"
      ],
      "text/plain": [
       "                   author  subreddit  \\\n",
       "0           AutoModerator          1   \n",
       "1               Chapulana          1   \n",
       "2              joaorsilva          1   \n",
       "3          klarstartpirat          1   \n",
       "4                ImamZain          1   \n",
       "...                   ...        ...   \n",
       "7973  AdamMitchellWheyyyy          0   \n",
       "7974          Access_Kind          0   \n",
       "7975             YakCarlo          0   \n",
       "7976          Access_Kind          0   \n",
       "7977          Access_Kind          0   \n",
       "\n",
       "                                         text_and_title  \n",
       "0     a place to discuss everything except the engli...  \n",
       "1     [about the latest eca/uefa idea] psg want cham...  \n",
       "2     [record] cristiano ronaldo says he will be at ...  \n",
       "3     jack grealish says english players get unfair ...  \n",
       "4     [pearce] the battle for jude bellingham… dortm...  \n",
       "...                                                 ...  \n",
       "7973  hey all\\n\\nas per the title, my connection is ...  \n",
       "7974  i am seeking advice on possible players to get...  \n",
       "7975  fut 19 toty kit for anyone who wants a classy ...  \n",
       "7976                      need advice on my ligue 1 fut  \n",
       "7977  need advice on my ligue 1 team fifa 22 fut, wh...  \n",
       "\n",
       "[7978 rows x 3 columns]"
      ]
     },
     "execution_count": 195,
     "metadata": {},
     "output_type": "execute_result"
    }
   ],
   "source": [
    "combine = df\n",
    "combine['text_and_title'] = combine['cleantext'] + combine['cleantitle']\n",
    "combine.drop(columns = ['cleantext', 'cleantitle'], inplace = True)\n",
    "combine"
   ]
  },
  {
   "cell_type": "code",
   "execution_count": 196,
   "id": "f5eac26e-e822-4625-8164-c65253b069d3",
   "metadata": {},
   "outputs": [],
   "source": [
    "#Set X and y\n",
    "X = combine['text_and_title'] \n",
    "y = combine['subreddit']"
   ]
  },
  {
   "cell_type": "code",
   "execution_count": 197,
   "id": "f2f2cba2-1a6e-40a2-9a73-1572583613a8",
   "metadata": {},
   "outputs": [],
   "source": [
    "X_train, X_test, y_train, y_test = train_test_split(X, y, random_state=42, stratify = y)"
   ]
  },
  {
   "cell_type": "code",
   "execution_count": 198,
   "id": "6ff2f2b5-8c1f-4ccb-a8ee-bdaddd266fb6",
   "metadata": {},
   "outputs": [],
   "source": [
    "pipe = Pipeline([\n",
    "    ('cvec', CountVectorizer()),\n",
    "    ('nb', MultinomialNB())\n",
    "])\n",
    "\n",
    "pipe_params = {\n",
    "    'cvec__stop_words':[None, 'english']\n",
    "}"
   ]
  },
  {
   "cell_type": "code",
   "execution_count": 199,
   "id": "28d42c42-8dea-43fd-b71c-7c5c3199d898",
   "metadata": {},
   "outputs": [],
   "source": [
    "gs = GridSearchCV(pipe,\n",
    "                  param_grid = pipe_params,\n",
    "                  cv = 5)"
   ]
  },
  {
   "cell_type": "code",
   "execution_count": 200,
   "id": "4a100748-3381-40cb-b66d-e57b38d54e70",
   "metadata": {},
   "outputs": [
    {
     "data": {
      "text/plain": [
       "GridSearchCV(cv=5,\n",
       "             estimator=Pipeline(steps=[('cvec', CountVectorizer()),\n",
       "                                       ('nb', MultinomialNB())]),\n",
       "             param_grid={'cvec__stop_words': [None, 'english']})"
      ]
     },
     "execution_count": 200,
     "metadata": {},
     "output_type": "execute_result"
    }
   ],
   "source": [
    "gs.fit(X_train, y_train)"
   ]
  },
  {
   "cell_type": "code",
   "execution_count": 201,
   "id": "186a5ee9-fdba-4210-a7ed-9fa613b3047b",
   "metadata": {},
   "outputs": [
    {
     "name": "stdout",
     "output_type": "stream",
     "text": [
      "0.9033919805086853\n",
      "{'cvec__stop_words': 'english'}\n"
     ]
    }
   ],
   "source": [
    "print(gs.best_score_)\n",
    "print(gs.best_params_)"
   ]
  },
  {
   "cell_type": "code",
   "execution_count": 202,
   "id": "f6e15db0-979b-4d8b-a198-e729746e67b3",
   "metadata": {},
   "outputs": [
    {
     "name": "stdout",
     "output_type": "stream",
     "text": [
      "Training Score: 0.9344810295838208\n",
      "Testing Score: 0.9082706766917293\n"
     ]
    }
   ],
   "source": [
    "print(f'Training Score: {gs.score(X_train, y_train)}')\n",
    "print(f'Testing Score: {gs.score(X_test, y_test)}')"
   ]
  },
  {
   "cell_type": "markdown",
   "id": "68c55219-ef86-4d44-ae6f-47f301ffeff2",
   "metadata": {},
   "source": [
    "Also slightly overfit, but the scores are somewhat close. Our traning score is .934, and our testing score is .908, which is pretty good."
   ]
  },
  {
   "cell_type": "code",
   "execution_count": 203,
   "id": "eb7a3f30-71a9-43d4-abce-40cb99793a77",
   "metadata": {},
   "outputs": [],
   "source": [
    "preds = gs.predict(X_test)\n",
    "tn, fp, fn, tp = confusion_matrix(y_test, preds).ravel()"
   ]
  },
  {
   "cell_type": "code",
   "execution_count": 204,
   "id": "c3a7c4bb-73fd-454e-bb50-d4cd7faf0131",
   "metadata": {},
   "outputs": [
    {
     "data": {
      "image/png": "[encoded data removed]",
      "text/plain": [
       "<Figure size 432x288 with 2 Axes>"
      ]
     },
     "metadata": {
      "needs_background": "light"
     },
     "output_type": "display_data"
    }
   ],
   "source": [
    "ConfusionMatrixDisplay.from_predictions(y_test, preds, cmap = 'magma', display_labels = ['r/soccer', 'r/FIFA'])\n",
    "plt.title('Multinomial Naive Bayes of subreddit Title & Text')\n",
    "\n",
    "plt.tight_layout()\n",
    "plt.savefig('../images/mnb_title_text_cmatrix');"
   ]
  },
  {
   "cell_type": "code",
   "execution_count": 205,
   "id": "c9cbb242-f892-4aa8-8ed2-88e1eb4af15e",
   "metadata": {},
   "outputs": [
    {
     "data": {
      "text/plain": [
       "0.9082706766917293"
      ]
     },
     "execution_count": 205,
     "metadata": {},
     "output_type": "execute_result"
    }
   ],
   "source": [
    "#Accuracy\n",
    "(tp + tn) / (tp + fn + fp + tn)"
   ]
  },
  {
   "cell_type": "code",
   "execution_count": 206,
   "id": "7a5ab2b7-b581-4df1-98bd-1071a21048d9",
   "metadata": {},
   "outputs": [
    {
     "data": {
      "text/plain": [
       "0.8341708542713567"
      ]
     },
     "execution_count": 206,
     "metadata": {},
     "output_type": "execute_result"
    }
   ],
   "source": [
    "#Sensitivity (Recall)\n",
    "tp / (tp + fn)"
   ]
  },
  {
   "cell_type": "code",
   "execution_count": 207,
   "id": "e5a7d628-bd51-477d-a17d-75f49046374a",
   "metadata": {},
   "outputs": [
    {
     "data": {
      "text/plain": [
       "0.982"
      ]
     },
     "execution_count": 207,
     "metadata": {},
     "output_type": "execute_result"
    }
   ],
   "source": [
    "#Specificity\n",
    "tn / (tn + fp)"
   ]
  },
  {
   "cell_type": "markdown",
   "id": "66475ebd-9329-428a-998b-e015f778e1d7",
   "metadata": {},
   "source": [
    "This model, which took the combined title and texts was slightly less accurate than our previous model, with an Accuracy of 90.8%, but our specificity (which minimizes false positives) is 98.2%."
   ]
  },
  {
   "cell_type": "code",
   "execution_count": 208,
   "id": "ab5f4ed4-ebdc-4d42-8fd3-7ae9edbe1ed7",
   "metadata": {},
   "outputs": [],
   "source": [
    "misplaced_preds = pd.DataFrame([(y_test.values[i], preds[i]) for i in range(len(y_test)) if y_test.values[i] != preds[i]],\n",
    "             index = [y_test.index[i] for i in range(len(y_test)) if y_test.values[i] != preds[i]])\n",
    "misplaced_preds.rename(columns = {0:'misplaced_in_FIFA', 1:'misplaced_in_soccer'}, inplace = True)"
   ]
  },
  {
   "cell_type": "code",
   "execution_count": 209,
   "id": "f553a997-5655-4265-9a4b-4c0ab51e7471",
   "metadata": {},
   "outputs": [],
   "source": [
    "misplaced_titles = pd.DataFrame(X_test.loc[[y_test.index[i] for i in range(len(y_test)) if y_test.values[i] != preds[i]]])"
   ]
  },
  {
   "cell_type": "code",
   "execution_count": 210,
   "id": "46a5fb79-62bd-42d5-9ad8-4d2f55d38d69",
   "metadata": {},
   "outputs": [
    {
     "data": {
      "text/html": [
       "<div>\n",
       "<style scoped>\n",
       "    .dataframe tbody tr th:only-of-type {\n",
       "        vertical-align: middle;\n",
       "    }\n",
       "\n",
       "    .dataframe tbody tr th {\n",
       "        vertical-align: top;\n",
       "    }\n",
       "\n",
       "    .dataframe thead th {\n",
       "        text-align: right;\n",
       "    }\n",
       "</style>\n",
       "<table border=\"1\" class=\"dataframe\">\n",
       "  <thead>\n",
       "    <tr style=\"text-align: right;\">\n",
       "      <th></th>\n",
       "      <th>misplaced_in_FIFA</th>\n",
       "      <th>misplaced_in_soccer</th>\n",
       "      <th>text_and_title</th>\n",
       "    </tr>\n",
       "  </thead>\n",
       "  <tbody>\n",
       "    <tr>\n",
       "      <th>2</th>\n",
       "      <td>1</td>\n",
       "      <td>0</td>\n",
       "      <td>[record] cristiano ronaldo says he will be at ...</td>\n",
       "    </tr>\n",
       "    <tr>\n",
       "      <th>9</th>\n",
       "      <td>1</td>\n",
       "      <td>0</td>\n",
       "      <td>[statsbomb] ellyes skhiri percentile rank vs. ...</td>\n",
       "    </tr>\n",
       "    <tr>\n",
       "      <th>49</th>\n",
       "      <td>1</td>\n",
       "      <td>0</td>\n",
       "      <td>i’ve never played soccer, but the ball has suc...</td>\n",
       "    </tr>\n",
       "    <tr>\n",
       "      <th>92</th>\n",
       "      <td>1</td>\n",
       "      <td>0</td>\n",
       "      <td>a throwback to a thread 9 years ago asking who...</td>\n",
       "    </tr>\n",
       "    <tr>\n",
       "      <th>99</th>\n",
       "      <td>1</td>\n",
       "      <td>0</td>\n",
       "      <td>does someone need an perfect football/soccer e...</td>\n",
       "    </tr>\n",
       "    <tr>\n",
       "      <th>...</th>\n",
       "      <td>...</td>\n",
       "      <td>...</td>\n",
       "      <td>...</td>\n",
       "    </tr>\n",
       "    <tr>\n",
       "      <th>6469</th>\n",
       "      <td>0</td>\n",
       "      <td>1</td>\n",
       "      <td>would you go with cunha or diaz on this?tough ...</td>\n",
       "    </tr>\n",
       "    <tr>\n",
       "      <th>6701</th>\n",
       "      <td>0</td>\n",
       "      <td>1</td>\n",
       "      <td>[deleted]i wish for more that i can get</td>\n",
       "    </tr>\n",
       "    <tr>\n",
       "      <th>6802</th>\n",
       "      <td>0</td>\n",
       "      <td>1</td>\n",
       "      <td>this was not called a foul/handball apparently</td>\n",
       "    </tr>\n",
       "    <tr>\n",
       "      <th>7436</th>\n",
       "      <td>0</td>\n",
       "      <td>1</td>\n",
       "      <td>i miss the old practice arena</td>\n",
       "    </tr>\n",
       "    <tr>\n",
       "      <th>7458</th>\n",
       "      <td>0</td>\n",
       "      <td>1</td>\n",
       "      <td>starting 11\\n1  from liverpool \\n1 from manu \\...</td>\n",
       "    </tr>\n",
       "  </tbody>\n",
       "</table>\n",
       "<p>183 rows × 3 columns</p>\n",
       "</div>"
      ],
      "text/plain": [
       "      misplaced_in_FIFA  misplaced_in_soccer  \\\n",
       "2                     1                    0   \n",
       "9                     1                    0   \n",
       "49                    1                    0   \n",
       "92                    1                    0   \n",
       "99                    1                    0   \n",
       "...                 ...                  ...   \n",
       "6469                  0                    1   \n",
       "6701                  0                    1   \n",
       "6802                  0                    1   \n",
       "7436                  0                    1   \n",
       "7458                  0                    1   \n",
       "\n",
       "                                         text_and_title  \n",
       "2     [record] cristiano ronaldo says he will be at ...  \n",
       "9     [statsbomb] ellyes skhiri percentile rank vs. ...  \n",
       "49    i’ve never played soccer, but the ball has suc...  \n",
       "92    a throwback to a thread 9 years ago asking who...  \n",
       "99    does someone need an perfect football/soccer e...  \n",
       "...                                                 ...  \n",
       "6469  would you go with cunha or diaz on this?tough ...  \n",
       "6701            [deleted]i wish for more that i can get  \n",
       "6802     this was not called a foul/handball apparently  \n",
       "7436                      i miss the old practice arena  \n",
       "7458  starting 11\\n1  from liverpool \\n1 from manu \\...  \n",
       "\n",
       "[183 rows x 3 columns]"
      ]
     },
     "execution_count": 210,
     "metadata": {},
     "output_type": "execute_result"
    }
   ],
   "source": [
    "misplaced_combined_titles = pd.concat([misplaced_preds, misplaced_titles], axis = 1)\n",
    "misplaced_combined_titles.sort_index()"
   ]
  },
  {
   "cell_type": "markdown",
   "id": "453546d8-1ca1-4db5-837b-bdf5ac238b24",
   "metadata": {},
   "source": [
    "### Tfidf"
   ]
  },
  {
   "cell_type": "code",
   "execution_count": 211,
   "id": "d32ad529-7df9-4095-b294-b50cc72b77b0",
   "metadata": {},
   "outputs": [
    {
     "name": "stdout",
     "output_type": "stream",
     "text": [
      "(7978, 4)\n"
     ]
    },
    {
     "data": {
      "text/html": [
       "<div>\n",
       "<style scoped>\n",
       "    .dataframe tbody tr th:only-of-type {\n",
       "        vertical-align: middle;\n",
       "    }\n",
       "\n",
       "    .dataframe tbody tr th {\n",
       "        vertical-align: top;\n",
       "    }\n",
       "\n",
       "    .dataframe thead th {\n",
       "        text-align: right;\n",
       "    }\n",
       "</style>\n",
       "<table border=\"1\" class=\"dataframe\">\n",
       "  <thead>\n",
       "    <tr style=\"text-align: right;\">\n",
       "      <th></th>\n",
       "      <th>author</th>\n",
       "      <th>subreddit</th>\n",
       "      <th>cleantext</th>\n",
       "      <th>cleantitle</th>\n",
       "    </tr>\n",
       "  </thead>\n",
       "  <tbody>\n",
       "    <tr>\n",
       "      <th>0</th>\n",
       "      <td>AutoModerator</td>\n",
       "      <td>1</td>\n",
       "      <td>a place to discuss everything except the engli...</td>\n",
       "      <td>non-pl daily discussion</td>\n",
       "    </tr>\n",
       "    <tr>\n",
       "      <th>1</th>\n",
       "      <td>Chapulana</td>\n",
       "      <td>1</td>\n",
       "      <td></td>\n",
       "      <td>[about the latest eca/uefa idea] psg want cham...</td>\n",
       "    </tr>\n",
       "    <tr>\n",
       "      <th>2</th>\n",
       "      <td>joaorsilva</td>\n",
       "      <td>1</td>\n",
       "      <td></td>\n",
       "      <td>[record] cristiano ronaldo says he will be at ...</td>\n",
       "    </tr>\n",
       "    <tr>\n",
       "      <th>3</th>\n",
       "      <td>klarstartpirat</td>\n",
       "      <td>1</td>\n",
       "      <td></td>\n",
       "      <td>jack grealish says english players get unfair ...</td>\n",
       "    </tr>\n",
       "    <tr>\n",
       "      <th>4</th>\n",
       "      <td>ImamZain</td>\n",
       "      <td>1</td>\n",
       "      <td></td>\n",
       "      <td>[pearce] the battle for jude bellingham… dortm...</td>\n",
       "    </tr>\n",
       "  </tbody>\n",
       "</table>\n",
       "</div>"
      ],
      "text/plain": [
       "           author  subreddit  \\\n",
       "0   AutoModerator          1   \n",
       "1       Chapulana          1   \n",
       "2      joaorsilva          1   \n",
       "3  klarstartpirat          1   \n",
       "4        ImamZain          1   \n",
       "\n",
       "                                           cleantext  \\\n",
       "0  a place to discuss everything except the engli...   \n",
       "1                                                      \n",
       "2                                                      \n",
       "3                                                      \n",
       "4                                                      \n",
       "\n",
       "                                          cleantitle  \n",
       "0                            non-pl daily discussion  \n",
       "1  [about the latest eca/uefa idea] psg want cham...  \n",
       "2  [record] cristiano ronaldo says he will be at ...  \n",
       "3  jack grealish says english players get unfair ...  \n",
       "4  [pearce] the battle for jude bellingham… dortm...  "
      ]
     },
     "execution_count": 211,
     "metadata": {},
     "output_type": "execute_result"
    }
   ],
   "source": [
    "#Reset DataFrame\n",
    "df = pd.read_csv('../data/combined_reddit.csv')\n",
    "df.fillna('', inplace = True)\n",
    "df['subreddit'] = df['subreddit'].map({'soccer':1, 'FIFA':0})\n",
    "\n",
    "pattern = '(\\\\n)+[\\* ]'\n",
    "def remove_html(post):\n",
    "    post = post.lower()\n",
    "    return re.sub(pattern, ' ', post)\n",
    "\n",
    "df['cleantext'] = df['cleantext'].apply(remove_html)\n",
    "df['cleantitle'] = df['cleantitle'].apply(remove_html)\n",
    "print(df.shape)\n",
    "df.head()"
   ]
  },
  {
   "cell_type": "code",
   "execution_count": 212,
   "id": "7478f29e-53d9-4623-a26b-e54bd9d0ac59",
   "metadata": {},
   "outputs": [],
   "source": [
    "#Reset X and y\n",
    "X = df['cleantitle'] \n",
    "y = df['subreddit']"
   ]
  },
  {
   "cell_type": "code",
   "execution_count": 213,
   "id": "c8bae322-5dfd-49ff-9fd3-32d5cee1d7d6",
   "metadata": {},
   "outputs": [],
   "source": [
    "X_train, X_test, y_train, y_test = train_test_split(X, y, random_state=42, stratify = y)"
   ]
  },
  {
   "cell_type": "code",
   "execution_count": 214,
   "id": "ba4fece6-44a4-4e5a-b5db-d8a14335e529",
   "metadata": {},
   "outputs": [],
   "source": [
    "pipe_tvec = Pipeline([\n",
    "    ('tvec', TfidfVectorizer()),\n",
    "    ('nb', MultinomialNB())\n",
    "])\n",
    "\n",
    "pipe_tvec_params = {\n",
    "    'tvec__max_features': [2000, 3000, 4000, 5000],\n",
    "    'tvec__stop_words': [None, 'english'],\n",
    "    'tvec__ngram_range': [(1, 1), (1, 2)]\n",
    "}"
   ]
  },
  {
   "cell_type": "code",
   "execution_count": 215,
   "id": "18700763-90e5-404f-af09-f09af02139c6",
   "metadata": {},
   "outputs": [],
   "source": [
    "gs_tvec = GridSearchCV(pipe_tvec,\n",
    "                       param_grid = pipe_tvec_params,\n",
    "                       cv = 5)"
   ]
  },
  {
   "cell_type": "code",
   "execution_count": 216,
   "id": "d42f7648-4bcd-4931-8630-9e704b2a5a4a",
   "metadata": {},
   "outputs": [
    {
     "data": {
      "text/plain": [
       "GridSearchCV(cv=5,\n",
       "             estimator=Pipeline(steps=[('tvec', TfidfVectorizer()),\n",
       "                                       ('nb', MultinomialNB())]),\n",
       "             param_grid={'tvec__max_features': [2000, 3000, 4000, 5000],\n",
       "                         'tvec__ngram_range': [(1, 1), (1, 2)],\n",
       "                         'tvec__stop_words': [None, 'english']})"
      ]
     },
     "execution_count": 216,
     "metadata": {},
     "output_type": "execute_result"
    }
   ],
   "source": [
    "gs_tvec.fit(X_train, y_train)"
   ]
  },
  {
   "cell_type": "code",
   "execution_count": 217,
   "id": "e596f69f-a238-4e21-be68-249eaa4f2c5b",
   "metadata": {},
   "outputs": [
    {
     "name": "stdout",
     "output_type": "stream",
     "text": [
      "0.9354857321676542\n",
      "{'tvec__max_features': 5000, 'tvec__ngram_range': (1, 2), 'tvec__stop_words': 'english'}\n"
     ]
    }
   ],
   "source": [
    "print(gs_tvec.best_score_)\n",
    "print(gs_tvec.best_params_)"
   ]
  },
  {
   "cell_type": "code",
   "execution_count": 218,
   "id": "3de6d9d0-57f5-4c0d-b445-c8f1c5c20245",
   "metadata": {},
   "outputs": [
    {
     "name": "stdout",
     "output_type": "stream",
     "text": [
      "Training Score: 0.9620591676416513\n",
      "Testing Score: 0.9353383458646617\n"
     ]
    }
   ],
   "source": [
    "print(f'Training Score: {gs_tvec.score(X_train, y_train)}')\n",
    "print(f'Testing Score: {gs_tvec.score(X_test, y_test)}')"
   ]
  },
  {
   "cell_type": "code",
   "execution_count": 219,
   "id": "9c55a376-cdd6-4b98-9750-a1329d1c98f3",
   "metadata": {},
   "outputs": [],
   "source": [
    "preds_tvec = gs_tvec.predict(X_test)\n",
    "tn, fp, fn, tp = confusion_matrix(y_test, preds_tvec).ravel()"
   ]
  },
  {
   "cell_type": "code",
   "execution_count": 220,
   "id": "633f0995-000e-404e-8691-629856e7a865",
   "metadata": {},
   "outputs": [
    {
     "data": {
      "image/png": "[encoded data removed]",
      "text/plain": [
       "<Figure size 432x288 with 2 Axes>"
      ]
     },
     "metadata": {
      "needs_background": "light"
     },
     "output_type": "display_data"
    }
   ],
   "source": [
    "ConfusionMatrixDisplay.from_predictions(y_test, preds_tvec, cmap = 'magma', display_labels = ['r/soccer', 'r/FIFA'])\n",
    "plt.title('Multinomial Naive Bayes (w/ Tfidf) of subreddit Title')\n",
    "\n",
    "plt.tight_layout()\n",
    "plt.savefig('../images/mnb_tvec_title');"
   ]
  },
  {
   "cell_type": "code",
   "execution_count": 221,
   "id": "46b4b48b-a476-4239-8baf-afd823a4f7aa",
   "metadata": {},
   "outputs": [
    {
     "data": {
      "text/plain": [
       "0.9353383458646617"
      ]
     },
     "execution_count": 221,
     "metadata": {},
     "output_type": "execute_result"
    }
   ],
   "source": [
    "#Accuracy\n",
    "(tp + tn) / (tp + fn + fp + tn)"
   ]
  },
  {
   "cell_type": "code",
   "execution_count": 222,
   "id": "de0130ac-cd3c-4e21-9d26-788dd497e08c",
   "metadata": {},
   "outputs": [
    {
     "data": {
      "text/plain": [
       "0.9175879396984925"
      ]
     },
     "execution_count": 222,
     "metadata": {},
     "output_type": "execute_result"
    }
   ],
   "source": [
    "#Sensitivity (Recall)\n",
    "tp / (tp + fn)"
   ]
  },
  {
   "cell_type": "code",
   "execution_count": 223,
   "id": "8a51917f-1470-4a04-a8bf-e8089df79a94",
   "metadata": {},
   "outputs": [
    {
     "data": {
      "text/plain": [
       "0.953"
      ]
     },
     "execution_count": 223,
     "metadata": {},
     "output_type": "execute_result"
    }
   ],
   "source": [
    "#Specificity\n",
    "tn / (tn + fp)"
   ]
  },
  {
   "cell_type": "markdown",
   "id": "8ef39bae-6428-48bf-aa33-f742615be543",
   "metadata": {},
   "source": [
    "Accuracy for the Tfidf is 93.5%"
   ]
  },
  {
   "cell_type": "code",
   "execution_count": 224,
   "id": "aaadf126-f0e8-4db3-a105-a8b046b8d95f",
   "metadata": {},
   "outputs": [],
   "source": [
    "misplaced_preds = pd.DataFrame([(y_test.values[i], preds_tvec[i]) for i in range(len(y_test)) if y_test.values[i] != preds_tvec[i]],\n",
    "             index = [y_test.index[i] for i in range(len(y_test)) if y_test.values[i] != preds_tvec[i]])\n",
    "misplaced_preds.rename(columns = {0:'misplaced_in_FIFA', 1:'misplaced_in_soccer'}, inplace = True)"
   ]
  },
  {
   "cell_type": "code",
   "execution_count": 225,
   "id": "4b3cc2ab-609b-40c7-9b32-243b039ff0c7",
   "metadata": {},
   "outputs": [],
   "source": [
    "misplaced_titles = pd.DataFrame(X_test.loc[[y_test.index[i] for i in range(len(y_test)) if y_test.values[i] != preds_tvec[i]]])"
   ]
  },
  {
   "cell_type": "code",
   "execution_count": 226,
   "id": "3913922e-99c7-4b1c-bae8-55e957d8ef3b",
   "metadata": {},
   "outputs": [
    {
     "data": {
      "text/html": [
       "<div>\n",
       "<style scoped>\n",
       "    .dataframe tbody tr th:only-of-type {\n",
       "        vertical-align: middle;\n",
       "    }\n",
       "\n",
       "    .dataframe tbody tr th {\n",
       "        vertical-align: top;\n",
       "    }\n",
       "\n",
       "    .dataframe thead th {\n",
       "        text-align: right;\n",
       "    }\n",
       "</style>\n",
       "<table border=\"1\" class=\"dataframe\">\n",
       "  <thead>\n",
       "    <tr style=\"text-align: right;\">\n",
       "      <th></th>\n",
       "      <th>misplaced_in_FIFA</th>\n",
       "      <th>misplaced_in_soccer</th>\n",
       "      <th>cleantitle</th>\n",
       "    </tr>\n",
       "  </thead>\n",
       "  <tbody>\n",
       "    <tr>\n",
       "      <th>9</th>\n",
       "      <td>1</td>\n",
       "      <td>0</td>\n",
       "      <td>[statsbomb] ellyes skhiri percentile rank vs. ...</td>\n",
       "    </tr>\n",
       "    <tr>\n",
       "      <th>49</th>\n",
       "      <td>1</td>\n",
       "      <td>0</td>\n",
       "      <td>i’ve never played soccer, but the ball has suc...</td>\n",
       "    </tr>\n",
       "    <tr>\n",
       "      <th>99</th>\n",
       "      <td>1</td>\n",
       "      <td>0</td>\n",
       "      <td>does someone need an perfect football/soccer e...</td>\n",
       "    </tr>\n",
       "    <tr>\n",
       "      <th>112</th>\n",
       "      <td>1</td>\n",
       "      <td>0</td>\n",
       "      <td>what cleats are these?</td>\n",
       "    </tr>\n",
       "    <tr>\n",
       "      <th>120</th>\n",
       "      <td>1</td>\n",
       "      <td>0</td>\n",
       "      <td>the most decisive players in a season in the 2...</td>\n",
       "    </tr>\n",
       "    <tr>\n",
       "      <th>...</th>\n",
       "      <td>...</td>\n",
       "      <td>...</td>\n",
       "      <td>...</td>\n",
       "    </tr>\n",
       "    <tr>\n",
       "      <th>7525</th>\n",
       "      <td>0</td>\n",
       "      <td>1</td>\n",
       "      <td>dda at its worst. 120' minute equalizer, conte...</td>\n",
       "    </tr>\n",
       "    <tr>\n",
       "      <th>7669</th>\n",
       "      <td>0</td>\n",
       "      <td>1</td>\n",
       "      <td>i would pay for classic teams or even better c...</td>\n",
       "    </tr>\n",
       "    <tr>\n",
       "      <th>7682</th>\n",
       "      <td>0</td>\n",
       "      <td>1</td>\n",
       "      <td>wonder - volley</td>\n",
       "    </tr>\n",
       "    <tr>\n",
       "      <th>7787</th>\n",
       "      <td>0</td>\n",
       "      <td>1</td>\n",
       "      <td>my entry for this year’s fallon d’floor.</td>\n",
       "    </tr>\n",
       "    <tr>\n",
       "      <th>7942</th>\n",
       "      <td>0</td>\n",
       "      <td>1</td>\n",
       "      <td>summer swaps give your wins away if you have c...</td>\n",
       "    </tr>\n",
       "  </tbody>\n",
       "</table>\n",
       "<p>129 rows × 3 columns</p>\n",
       "</div>"
      ],
      "text/plain": [
       "      misplaced_in_FIFA  misplaced_in_soccer  \\\n",
       "9                     1                    0   \n",
       "49                    1                    0   \n",
       "99                    1                    0   \n",
       "112                   1                    0   \n",
       "120                   1                    0   \n",
       "...                 ...                  ...   \n",
       "7525                  0                    1   \n",
       "7669                  0                    1   \n",
       "7682                  0                    1   \n",
       "7787                  0                    1   \n",
       "7942                  0                    1   \n",
       "\n",
       "                                             cleantitle  \n",
       "9     [statsbomb] ellyes skhiri percentile rank vs. ...  \n",
       "49    i’ve never played soccer, but the ball has suc...  \n",
       "99    does someone need an perfect football/soccer e...  \n",
       "112                              what cleats are these?  \n",
       "120   the most decisive players in a season in the 2...  \n",
       "...                                                 ...  \n",
       "7525  dda at its worst. 120' minute equalizer, conte...  \n",
       "7669  i would pay for classic teams or even better c...  \n",
       "7682                                    wonder - volley  \n",
       "7787           my entry for this year’s fallon d’floor.  \n",
       "7942  summer swaps give your wins away if you have c...  \n",
       "\n",
       "[129 rows x 3 columns]"
      ]
     },
     "execution_count": 226,
     "metadata": {},
     "output_type": "execute_result"
    }
   ],
   "source": [
    "misplaced_combined_titles = pd.concat([misplaced_preds, misplaced_titles], axis = 1)\n",
    "misplaced_combined_titles.sort_index()"
   ]
  },
  {
   "cell_type": "markdown",
   "id": "e13eab15-03d5-465f-82b0-f0b89df53658",
   "metadata": {
    "tags": []
   },
   "source": [
    "## RandomForests"
   ]
  },
  {
   "cell_type": "code",
   "execution_count": 227,
   "id": "e86488fa-a973-41fa-8f0c-8e88e46f1816",
   "metadata": {},
   "outputs": [
    {
     "name": "stdout",
     "output_type": "stream",
     "text": [
      "(7978, 4)\n"
     ]
    },
    {
     "data": {
      "text/html": [
       "<div>\n",
       "<style scoped>\n",
       "    .dataframe tbody tr th:only-of-type {\n",
       "        vertical-align: middle;\n",
       "    }\n",
       "\n",
       "    .dataframe tbody tr th {\n",
       "        vertical-align: top;\n",
       "    }\n",
       "\n",
       "    .dataframe thead th {\n",
       "        text-align: right;\n",
       "    }\n",
       "</style>\n",
       "<table border=\"1\" class=\"dataframe\">\n",
       "  <thead>\n",
       "    <tr style=\"text-align: right;\">\n",
       "      <th></th>\n",
       "      <th>author</th>\n",
       "      <th>subreddit</th>\n",
       "      <th>cleantext</th>\n",
       "      <th>cleantitle</th>\n",
       "    </tr>\n",
       "  </thead>\n",
       "  <tbody>\n",
       "    <tr>\n",
       "      <th>0</th>\n",
       "      <td>AutoModerator</td>\n",
       "      <td>1</td>\n",
       "      <td>a place to discuss everything except the engli...</td>\n",
       "      <td>non-pl daily discussion</td>\n",
       "    </tr>\n",
       "    <tr>\n",
       "      <th>1</th>\n",
       "      <td>Chapulana</td>\n",
       "      <td>1</td>\n",
       "      <td></td>\n",
       "      <td>[about the latest eca/uefa idea] psg want cham...</td>\n",
       "    </tr>\n",
       "    <tr>\n",
       "      <th>2</th>\n",
       "      <td>joaorsilva</td>\n",
       "      <td>1</td>\n",
       "      <td></td>\n",
       "      <td>[record] cristiano ronaldo says he will be at ...</td>\n",
       "    </tr>\n",
       "    <tr>\n",
       "      <th>3</th>\n",
       "      <td>klarstartpirat</td>\n",
       "      <td>1</td>\n",
       "      <td></td>\n",
       "      <td>jack grealish says english players get unfair ...</td>\n",
       "    </tr>\n",
       "    <tr>\n",
       "      <th>4</th>\n",
       "      <td>ImamZain</td>\n",
       "      <td>1</td>\n",
       "      <td></td>\n",
       "      <td>[pearce] the battle for jude bellingham… dortm...</td>\n",
       "    </tr>\n",
       "  </tbody>\n",
       "</table>\n",
       "</div>"
      ],
      "text/plain": [
       "           author  subreddit  \\\n",
       "0   AutoModerator          1   \n",
       "1       Chapulana          1   \n",
       "2      joaorsilva          1   \n",
       "3  klarstartpirat          1   \n",
       "4        ImamZain          1   \n",
       "\n",
       "                                           cleantext  \\\n",
       "0  a place to discuss everything except the engli...   \n",
       "1                                                      \n",
       "2                                                      \n",
       "3                                                      \n",
       "4                                                      \n",
       "\n",
       "                                          cleantitle  \n",
       "0                            non-pl daily discussion  \n",
       "1  [about the latest eca/uefa idea] psg want cham...  \n",
       "2  [record] cristiano ronaldo says he will be at ...  \n",
       "3  jack grealish says english players get unfair ...  \n",
       "4  [pearce] the battle for jude bellingham… dortm...  "
      ]
     },
     "execution_count": 227,
     "metadata": {},
     "output_type": "execute_result"
    }
   ],
   "source": [
    "#Reset DataFrame\n",
    "df = pd.read_csv('../data/combined_reddit.csv')\n",
    "df.fillna('', inplace = True)\n",
    "df['subreddit'] = df['subreddit'].map({'soccer':1, 'FIFA':0})\n",
    "print(df.shape)\n",
    "df.head()"
   ]
  },
  {
   "cell_type": "code",
   "execution_count": 228,
   "id": "4cdaf396-3081-4c02-870c-759fb6d96e80",
   "metadata": {},
   "outputs": [],
   "source": [
    "#Reset X and y\n",
    "X = df['cleantitle'] \n",
    "y = df['subreddit']"
   ]
  },
  {
   "cell_type": "code",
   "execution_count": 229,
   "id": "cf13bc67-74b2-498c-a026-b4337535ced0",
   "metadata": {},
   "outputs": [],
   "source": [
    "X_train, X_test, y_train, y_test = train_test_split(X, y, random_state=42, stratify = y)"
   ]
  },
  {
   "cell_type": "code",
   "execution_count": 230,
   "id": "17effcfb-98cd-484f-b716-8f5998c4aa04",
   "metadata": {},
   "outputs": [],
   "source": [
    "pipe2 = Pipeline([\n",
    "    ('cvec', CountVectorizer()),\n",
    "    ('rf', RandomForestClassifier())\n",
    "])"
   ]
  },
  {
   "cell_type": "code",
   "execution_count": 231,
   "id": "21a72585-7e2b-4999-86ec-e44042fd434e",
   "metadata": {},
   "outputs": [],
   "source": [
    "pipe2_params = {\n",
    "    'cvec__stop_words':[None, 'english'],\n",
    "    'rf__n_estimators': [50, 100, 200, 500]\n",
    "}"
   ]
  },
  {
   "cell_type": "code",
   "execution_count": 232,
   "id": "725d228d-eba1-42b9-b568-df6e5556056c",
   "metadata": {},
   "outputs": [],
   "source": [
    "gs2 = GridSearchCV(pipe2,\n",
    "                  param_grid = pipe2_params,\n",
    "                  cv = 5)"
   ]
  },
  {
   "cell_type": "code",
   "execution_count": 233,
   "id": "4ced693e-ccec-464d-b99a-396f9d630950",
   "metadata": {},
   "outputs": [
    {
     "data": {
      "text/plain": [
       "GridSearchCV(cv=5,\n",
       "             estimator=Pipeline(steps=[('cvec', CountVectorizer()),\n",
       "                                       ('rf', RandomForestClassifier())]),\n",
       "             param_grid={'cvec__stop_words': [None, 'english'],\n",
       "                         'rf__n_estimators': [50, 100, 200, 500]})"
      ]
     },
     "execution_count": 233,
     "metadata": {},
     "output_type": "execute_result"
    }
   ],
   "source": [
    "gs2.fit(X_train, y_train)"
   ]
  },
  {
   "cell_type": "code",
   "execution_count": 234,
   "id": "96ef7d2d-1dff-4501-930d-952b6461f1b6",
   "metadata": {},
   "outputs": [
    {
     "name": "stdout",
     "output_type": "stream",
     "text": [
      "0.9107498400404579\n",
      "{'cvec__stop_words': None, 'rf__n_estimators': 500}\n"
     ]
    }
   ],
   "source": [
    "print(gs2.best_score_)\n",
    "print(gs2.best_params_)"
   ]
  },
  {
   "cell_type": "markdown",
   "id": "3280656b-dc69-49ac-955f-6aee8160d9f5",
   "metadata": {},
   "source": [
    "Our best parameters were when we do not remove English stop words, and had n_estimators (number of trees in the forest) equal to 500."
   ]
  },
  {
   "cell_type": "code",
   "execution_count": 235,
   "id": "5185777a-6cbb-4043-ae7b-8411c80032a8",
   "metadata": {},
   "outputs": [
    {
     "name": "stdout",
     "output_type": "stream",
     "text": [
      "Training Score: 0.999331439077386\n",
      "Testing Score: 0.9167919799498747\n"
     ]
    }
   ],
   "source": [
    "print(f'Training Score: {gs2.score(X_train, y_train)}')\n",
    "print(f'Testing Score: {gs2.score(X_test, y_test)}')"
   ]
  },
  {
   "cell_type": "markdown",
   "id": "7d297b4b-7904-4976-b9ca-06c2e2294d83",
   "metadata": {},
   "source": [
    "Model appears to be overfit, as we have a score of .999 for the training set, but .917 for the testing set."
   ]
  },
  {
   "cell_type": "code",
   "execution_count": 236,
   "id": "eebaf2ff-4013-4415-b544-32d1fd5d8f95",
   "metadata": {},
   "outputs": [],
   "source": [
    "preds = gs2.predict(X_test)\n",
    "tn, fp, fn, tp = confusion_matrix(y_test, preds).ravel()"
   ]
  },
  {
   "cell_type": "code",
   "execution_count": 237,
   "id": "58919860-6bff-4ee1-9f78-29ed8226db26",
   "metadata": {},
   "outputs": [
    {
     "data": {
      "image/png": "[encoded data removed]",
      "text/plain": [
       "<Figure size 432x288 with 2 Axes>"
      ]
     },
     "metadata": {
      "needs_background": "light"
     },
     "output_type": "display_data"
    }
   ],
   "source": [
    "ConfusionMatrixDisplay.from_predictions(y_test, preds, cmap = 'magma', display_labels = ['r/soccer', 'r/FIFA'])\n",
    "plt.title('RandomForest of subreddit Title')\n",
    "\n",
    "plt.tight_layout()\n",
    "plt.savefig('../images/rf_title');"
   ]
  },
  {
   "cell_type": "code",
   "execution_count": 238,
   "id": "27012a6a-d49e-4d52-91bd-0516b3831d33",
   "metadata": {},
   "outputs": [],
   "source": [
    "misplaced_preds = pd.DataFrame([(y_test.values[i], preds[i]) for i in range(len(y_test)) if y_test.values[i] != preds[i]],\n",
    "             index = [y_test.index[i] for i in range(len(y_test)) if y_test.values[i] != preds[i]])\n",
    "misplaced_preds.rename(columns = {0:'misplaced_in_FIFA', 1:'misplaced_in_soccer'}, inplace = True)"
   ]
  },
  {
   "cell_type": "code",
   "execution_count": 239,
   "id": "abb9ccab-2849-4d2d-8854-ba09f442551c",
   "metadata": {},
   "outputs": [],
   "source": [
    "misplaced_titles = pd.DataFrame(X_test.loc[[y_test.index[i] for i in range(len(y_test)) if y_test.values[i] != preds[i]]])"
   ]
  },
  {
   "cell_type": "code",
   "execution_count": 240,
   "id": "34eec2fc-a3c2-4688-9288-e9e23a5d1c29",
   "metadata": {},
   "outputs": [
    {
     "data": {
      "text/html": [
       "<div>\n",
       "<style scoped>\n",
       "    .dataframe tbody tr th:only-of-type {\n",
       "        vertical-align: middle;\n",
       "    }\n",
       "\n",
       "    .dataframe tbody tr th {\n",
       "        vertical-align: top;\n",
       "    }\n",
       "\n",
       "    .dataframe thead th {\n",
       "        text-align: right;\n",
       "    }\n",
       "</style>\n",
       "<table border=\"1\" class=\"dataframe\">\n",
       "  <thead>\n",
       "    <tr style=\"text-align: right;\">\n",
       "      <th></th>\n",
       "      <th>misplaced_in_FIFA</th>\n",
       "      <th>misplaced_in_soccer</th>\n",
       "      <th>cleantitle</th>\n",
       "    </tr>\n",
       "  </thead>\n",
       "  <tbody>\n",
       "    <tr>\n",
       "      <th>9</th>\n",
       "      <td>1</td>\n",
       "      <td>0</td>\n",
       "      <td>[statsbomb] ellyes skhiri percentile rank vs. ...</td>\n",
       "    </tr>\n",
       "    <tr>\n",
       "      <th>85</th>\n",
       "      <td>1</td>\n",
       "      <td>0</td>\n",
       "      <td>vinicius junior, racist abuse and yet 'everyth...</td>\n",
       "    </tr>\n",
       "    <tr>\n",
       "      <th>92</th>\n",
       "      <td>1</td>\n",
       "      <td>0</td>\n",
       "      <td>a throwback to a thread 9 years ago asking who...</td>\n",
       "    </tr>\n",
       "    <tr>\n",
       "      <th>112</th>\n",
       "      <td>1</td>\n",
       "      <td>0</td>\n",
       "      <td>what cleats are these?</td>\n",
       "    </tr>\n",
       "    <tr>\n",
       "      <th>136</th>\n",
       "      <td>1</td>\n",
       "      <td>0</td>\n",
       "      <td>pedri: i'm proud to play with lewandowski.\"</td>\n",
       "    </tr>\n",
       "    <tr>\n",
       "      <th>...</th>\n",
       "      <td>...</td>\n",
       "      <td>...</td>\n",
       "      <td>...</td>\n",
       "    </tr>\n",
       "    <tr>\n",
       "      <th>7670</th>\n",
       "      <td>0</td>\n",
       "      <td>1</td>\n",
       "      <td>3 bars of power on a chip and he launches the ...</td>\n",
       "    </tr>\n",
       "    <tr>\n",
       "      <th>7765</th>\n",
       "      <td>0</td>\n",
       "      <td>1</td>\n",
       "      <td>last ditch slide</td>\n",
       "    </tr>\n",
       "    <tr>\n",
       "      <th>7766</th>\n",
       "      <td>0</td>\n",
       "      <td>1</td>\n",
       "      <td>beta setting file corrupt following update</td>\n",
       "    </tr>\n",
       "    <tr>\n",
       "      <th>7894</th>\n",
       "      <td>0</td>\n",
       "      <td>1</td>\n",
       "      <td>finally a great pull :)</td>\n",
       "    </tr>\n",
       "    <tr>\n",
       "      <th>7959</th>\n",
       "      <td>0</td>\n",
       "      <td>1</td>\n",
       "      <td>stupid question…</td>\n",
       "    </tr>\n",
       "  </tbody>\n",
       "</table>\n",
       "<p>166 rows × 3 columns</p>\n",
       "</div>"
      ],
      "text/plain": [
       "      misplaced_in_FIFA  misplaced_in_soccer  \\\n",
       "9                     1                    0   \n",
       "85                    1                    0   \n",
       "92                    1                    0   \n",
       "112                   1                    0   \n",
       "136                   1                    0   \n",
       "...                 ...                  ...   \n",
       "7670                  0                    1   \n",
       "7765                  0                    1   \n",
       "7766                  0                    1   \n",
       "7894                  0                    1   \n",
       "7959                  0                    1   \n",
       "\n",
       "                                             cleantitle  \n",
       "9     [statsbomb] ellyes skhiri percentile rank vs. ...  \n",
       "85    vinicius junior, racist abuse and yet 'everyth...  \n",
       "92    a throwback to a thread 9 years ago asking who...  \n",
       "112                              what cleats are these?  \n",
       "136         pedri: i'm proud to play with lewandowski.\"  \n",
       "...                                                 ...  \n",
       "7670  3 bars of power on a chip and he launches the ...  \n",
       "7765                                   last ditch slide  \n",
       "7766         beta setting file corrupt following update  \n",
       "7894                            finally a great pull :)  \n",
       "7959                                   stupid question…  \n",
       "\n",
       "[166 rows x 3 columns]"
      ]
     },
     "execution_count": 240,
     "metadata": {},
     "output_type": "execute_result"
    }
   ],
   "source": [
    "misplaced_combined_titles = pd.concat([misplaced_preds, misplaced_titles], axis = 1)\n",
    "misplaced_combined_titles.sort_index()"
   ]
  },
  {
   "cell_type": "code",
   "execution_count": 241,
   "id": "21d3a3f9-937d-4e8f-8746-c76f4e67925f",
   "metadata": {},
   "outputs": [
    {
     "data": {
      "text/plain": [
       "0.9167919799498747"
      ]
     },
     "execution_count": 241,
     "metadata": {},
     "output_type": "execute_result"
    }
   ],
   "source": [
    "#Accuracy\n",
    "(tp + tn) / (tp + fn + fp + tn)"
   ]
  },
  {
   "cell_type": "code",
   "execution_count": 242,
   "id": "e287f2ea-1874-4ade-9b3b-446a97871138",
   "metadata": {},
   "outputs": [
    {
     "data": {
      "text/plain": [
       "0.8874371859296483"
      ]
     },
     "execution_count": 242,
     "metadata": {},
     "output_type": "execute_result"
    }
   ],
   "source": [
    "#Sensitivity (Recall)\n",
    "tp / (tp + fn)"
   ]
  },
  {
   "cell_type": "code",
   "execution_count": 243,
   "id": "a2fa6598-2596-458d-a045-8c9c057c3f4e",
   "metadata": {},
   "outputs": [
    {
     "data": {
      "text/plain": [
       "0.946"
      ]
     },
     "execution_count": 243,
     "metadata": {},
     "output_type": "execute_result"
    }
   ],
   "source": [
    "#Specificity\n",
    "tn / (tn + fp)"
   ]
  },
  {
   "cell_type": "markdown",
   "id": "30bcd40d-ca5c-4596-8bdc-027cd623dc8d",
   "metadata": {},
   "source": [
    "The accuracy for this model is 91.6%. It also has a higher specificity than our Mutlinomial Naive Bayes, with a score of 94.6%, but our recall is 88.7%. This model was not good at minimizing false negatives."
   ]
  },
  {
   "cell_type": "markdown",
   "id": "3045bd03-013f-4043-af71-ae243e688807",
   "metadata": {},
   "source": [
    "### Combination of Text and Title"
   ]
  },
  {
   "cell_type": "code",
   "execution_count": 244,
   "id": "7712071a-bc6f-41aa-9a29-eaa5172b3426",
   "metadata": {},
   "outputs": [
    {
     "data": {
      "text/html": [
       "<div>\n",
       "<style scoped>\n",
       "    .dataframe tbody tr th:only-of-type {\n",
       "        vertical-align: middle;\n",
       "    }\n",
       "\n",
       "    .dataframe tbody tr th {\n",
       "        vertical-align: top;\n",
       "    }\n",
       "\n",
       "    .dataframe thead th {\n",
       "        text-align: right;\n",
       "    }\n",
       "</style>\n",
       "<table border=\"1\" class=\"dataframe\">\n",
       "  <thead>\n",
       "    <tr style=\"text-align: right;\">\n",
       "      <th></th>\n",
       "      <th>author</th>\n",
       "      <th>subreddit</th>\n",
       "      <th>text_and_title</th>\n",
       "    </tr>\n",
       "  </thead>\n",
       "  <tbody>\n",
       "    <tr>\n",
       "      <th>0</th>\n",
       "      <td>AutoModerator</td>\n",
       "      <td>1</td>\n",
       "      <td>a place to discuss everything except the engli...</td>\n",
       "    </tr>\n",
       "    <tr>\n",
       "      <th>1</th>\n",
       "      <td>Chapulana</td>\n",
       "      <td>1</td>\n",
       "      <td>[about the latest eca/uefa idea] psg want cham...</td>\n",
       "    </tr>\n",
       "    <tr>\n",
       "      <th>2</th>\n",
       "      <td>joaorsilva</td>\n",
       "      <td>1</td>\n",
       "      <td>[record] cristiano ronaldo says he will be at ...</td>\n",
       "    </tr>\n",
       "    <tr>\n",
       "      <th>3</th>\n",
       "      <td>klarstartpirat</td>\n",
       "      <td>1</td>\n",
       "      <td>jack grealish says english players get unfair ...</td>\n",
       "    </tr>\n",
       "    <tr>\n",
       "      <th>4</th>\n",
       "      <td>ImamZain</td>\n",
       "      <td>1</td>\n",
       "      <td>[pearce] the battle for jude bellingham… dortm...</td>\n",
       "    </tr>\n",
       "    <tr>\n",
       "      <th>...</th>\n",
       "      <td>...</td>\n",
       "      <td>...</td>\n",
       "      <td>...</td>\n",
       "    </tr>\n",
       "    <tr>\n",
       "      <th>7973</th>\n",
       "      <td>AdamMitchellWheyyyy</td>\n",
       "      <td>0</td>\n",
       "      <td>hey all\\n\\nas per the title, my connection is ...</td>\n",
       "    </tr>\n",
       "    <tr>\n",
       "      <th>7974</th>\n",
       "      <td>Access_Kind</td>\n",
       "      <td>0</td>\n",
       "      <td>i am seeking advice on possible players to get...</td>\n",
       "    </tr>\n",
       "    <tr>\n",
       "      <th>7975</th>\n",
       "      <td>YakCarlo</td>\n",
       "      <td>0</td>\n",
       "      <td>fut 19 toty kit for anyone who wants a classy ...</td>\n",
       "    </tr>\n",
       "    <tr>\n",
       "      <th>7976</th>\n",
       "      <td>Access_Kind</td>\n",
       "      <td>0</td>\n",
       "      <td>need advice on my ligue 1 fut</td>\n",
       "    </tr>\n",
       "    <tr>\n",
       "      <th>7977</th>\n",
       "      <td>Access_Kind</td>\n",
       "      <td>0</td>\n",
       "      <td>need advice on my ligue 1 team fifa 22 fut, wh...</td>\n",
       "    </tr>\n",
       "  </tbody>\n",
       "</table>\n",
       "<p>7978 rows × 3 columns</p>\n",
       "</div>"
      ],
      "text/plain": [
       "                   author  subreddit  \\\n",
       "0           AutoModerator          1   \n",
       "1               Chapulana          1   \n",
       "2              joaorsilva          1   \n",
       "3          klarstartpirat          1   \n",
       "4                ImamZain          1   \n",
       "...                   ...        ...   \n",
       "7973  AdamMitchellWheyyyy          0   \n",
       "7974          Access_Kind          0   \n",
       "7975             YakCarlo          0   \n",
       "7976          Access_Kind          0   \n",
       "7977          Access_Kind          0   \n",
       "\n",
       "                                         text_and_title  \n",
       "0     a place to discuss everything except the engli...  \n",
       "1     [about the latest eca/uefa idea] psg want cham...  \n",
       "2     [record] cristiano ronaldo says he will be at ...  \n",
       "3     jack grealish says english players get unfair ...  \n",
       "4     [pearce] the battle for jude bellingham… dortm...  \n",
       "...                                                 ...  \n",
       "7973  hey all\\n\\nas per the title, my connection is ...  \n",
       "7974  i am seeking advice on possible players to get...  \n",
       "7975  fut 19 toty kit for anyone who wants a classy ...  \n",
       "7976                      need advice on my ligue 1 fut  \n",
       "7977  need advice on my ligue 1 team fifa 22 fut, wh...  \n",
       "\n",
       "[7978 rows x 3 columns]"
      ]
     },
     "execution_count": 244,
     "metadata": {},
     "output_type": "execute_result"
    }
   ],
   "source": [
    "combine = df\n",
    "combine['text_and_title'] = combine['cleantext'] + combine['cleantitle']\n",
    "combine.drop(columns = ['cleantext', 'cleantitle'], inplace = True)\n",
    "combine"
   ]
  },
  {
   "cell_type": "code",
   "execution_count": 245,
   "id": "498ff767-02dc-43ea-8529-85ccc6aa38cb",
   "metadata": {},
   "outputs": [],
   "source": [
    "#Set X and y\n",
    "X = combine['text_and_title'] \n",
    "y = combine['subreddit']"
   ]
  },
  {
   "cell_type": "code",
   "execution_count": 246,
   "id": "006519e1-cf8d-4e0f-84a8-b49deba71bd7",
   "metadata": {},
   "outputs": [],
   "source": [
    "X_train, X_test, y_train, y_test = train_test_split(X, y, random_state=42, stratify = y)"
   ]
  },
  {
   "cell_type": "code",
   "execution_count": 247,
   "id": "1d7a2561-ef1a-4c7e-b64a-44a8481036dd",
   "metadata": {},
   "outputs": [],
   "source": [
    "pipe2 = Pipeline([\n",
    "    ('cvec', CountVectorizer()),\n",
    "    ('rf', RandomForestClassifier())\n",
    "])\n",
    "\n",
    "pipe2_params = {\n",
    "    'cvec__stop_words':[None, 'english'],\n",
    "    'rf__n_estimators': [50, 100, 200, 500],\n",
    "    'rf__min_samples_leaf': [1, 2, 3, 5],\n",
    "}\n",
    "\n",
    "gs2 = GridSearchCV(pipe2,\n",
    "                  param_grid = pipe2_params,\n",
    "                  cv = 5)"
   ]
  },
  {
   "cell_type": "code",
   "execution_count": 248,
   "id": "7f416917-0efc-48c3-9af0-907f5d0cc2be",
   "metadata": {},
   "outputs": [
    {
     "data": {
      "text/plain": [
       "GridSearchCV(cv=5,\n",
       "             estimator=Pipeline(steps=[('cvec', CountVectorizer()),\n",
       "                                       ('rf', RandomForestClassifier())]),\n",
       "             param_grid={'cvec__stop_words': [None, 'english'],\n",
       "                         'rf__min_samples_leaf': [1, 2, 3, 5],\n",
       "                         'rf__n_estimators': [50, 100, 200, 500]})"
      ]
     },
     "execution_count": 248,
     "metadata": {},
     "output_type": "execute_result"
    }
   ],
   "source": [
    "gs2.fit(X_train, y_train)"
   ]
  },
  {
   "cell_type": "code",
   "execution_count": 249,
   "id": "41bc9807-60a5-4836-92d5-d6536ed5041b",
   "metadata": {},
   "outputs": [
    {
     "name": "stdout",
     "output_type": "stream",
     "text": [
      "0.8995511353634923\n",
      "{'cvec__stop_words': 'english', 'rf__min_samples_leaf': 2, 'rf__n_estimators': 200}\n"
     ]
    }
   ],
   "source": [
    "print(gs2.best_score_)\n",
    "print(gs2.best_params_)"
   ]
  },
  {
   "cell_type": "code",
   "execution_count": 250,
   "id": "c4805312-43fb-48e7-bb3b-36e54c13b0e7",
   "metadata": {},
   "outputs": [
    {
     "name": "stdout",
     "output_type": "stream",
     "text": [
      "Training Score: 0.9379909744275448\n",
      "Testing Score: 0.8912280701754386\n"
     ]
    }
   ],
   "source": [
    "print(f'Training Score: {gs2.score(X_train, y_train)}')\n",
    "print(f'Testing Score: {gs2.score(X_test, y_test)}')"
   ]
  },
  {
   "cell_type": "markdown",
   "id": "44697c30-9ae9-461a-9e68-3f12e6904cbe",
   "metadata": {},
   "source": [
    "Less overfit, our training score is now .938, and our testing score is .891"
   ]
  },
  {
   "cell_type": "code",
   "execution_count": 251,
   "id": "22ddce83-a2a0-4511-8d2e-4044e13bae83",
   "metadata": {},
   "outputs": [],
   "source": [
    "preds = gs2.predict(X_test)\n",
    "tn, fp, fn, tp = confusion_matrix(y_test, preds).ravel()"
   ]
  },
  {
   "cell_type": "code",
   "execution_count": 252,
   "id": "ecb25723-a499-42b4-ba9e-74ce1c9ac11a",
   "metadata": {},
   "outputs": [
    {
     "data": {
      "image/png": "[encoded data removed]",
      "text/plain": [
       "<Figure size 432x288 with 2 Axes>"
      ]
     },
     "metadata": {
      "needs_background": "light"
     },
     "output_type": "display_data"
    }
   ],
   "source": [
    "ConfusionMatrixDisplay.from_predictions(y_test, preds, cmap = 'magma', display_labels = ['r/soccer', 'r/FIFA'])\n",
    "plt.title('RandomForest of subreddit Title & Text')\n",
    "\n",
    "plt.tight_layout()\n",
    "plt.savefig('../images/rf_title_text');"
   ]
  },
  {
   "cell_type": "code",
   "execution_count": 253,
   "id": "2ccdbde2-9dad-4ac1-a389-7c29cefaacc2",
   "metadata": {},
   "outputs": [
    {
     "data": {
      "text/plain": [
       "0.8912280701754386"
      ]
     },
     "execution_count": 253,
     "metadata": {},
     "output_type": "execute_result"
    }
   ],
   "source": [
    "#Accuracy\n",
    "(tp + tn) / (tp + fn + fp + tn)"
   ]
  },
  {
   "cell_type": "code",
   "execution_count": 254,
   "id": "e87515fb-816e-4a2c-a61d-4ecfe8eefad0",
   "metadata": {},
   "outputs": [
    {
     "data": {
      "text/plain": [
       "0.9035175879396985"
      ]
     },
     "execution_count": 254,
     "metadata": {},
     "output_type": "execute_result"
    }
   ],
   "source": [
    "#Sensitivity (Recall)\n",
    "tp / (tp + fn)"
   ]
  },
  {
   "cell_type": "code",
   "execution_count": 255,
   "id": "fc7c3d30-27ab-4ba5-8930-5c6a9063e7f0",
   "metadata": {},
   "outputs": [
    {
     "data": {
      "text/plain": [
       "0.879"
      ]
     },
     "execution_count": 255,
     "metadata": {},
     "output_type": "execute_result"
    }
   ],
   "source": [
    "#Specificity\n",
    "tn / (tn + fp)"
   ]
  },
  {
   "cell_type": "markdown",
   "id": "04983707-434a-4ae4-94bb-5ba34af9de58",
   "metadata": {},
   "source": [
    "Accuracy is 89.1%. Unlike other models, we have a higher rate of false positives, and a lower rate of false negatives compared to the Multinomial Naive Bayes model."
   ]
  },
  {
   "cell_type": "code",
   "execution_count": null,
   "id": "e7e8d57e-b1e1-40c3-bb8a-321227b36ef0",
   "metadata": {},
   "outputs": [],
   "source": []
  }
 ],
 "metadata": {
  "kernelspec": {
   "display_name": "Python 3 (ipykernel)",
   "language": "python",
   "name": "python3"
  },
  "language_info": {
   "codemirror_mode": {
    "name": "ipython",
    "version": 3
   },
   "file_extension": ".py",
   "mimetype": "text/x-python",
   "name": "python",
   "nbconvert_exporter": "python",
   "pygments_lexer": "ipython3",
   "version": "3.9.12"
  }
 },
 "nbformat": 4,
 "nbformat_minor": 5
}
